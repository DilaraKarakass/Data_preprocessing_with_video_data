{
 "cells": [
  {
   "cell_type": "code",
   "execution_count": 1,
   "id": "9a783bf2",
   "metadata": {},
   "outputs": [
    {
     "name": "stdout",
     "output_type": "stream",
     "text": [
      "durmak.mp4 küçültüldü ve C:\\Users\\dilar\\OneDrive\\Masaüstü\\Video\\output_file klasörüne kaydedildi.\n",
      "giyinmek.mp4 küçültüldü ve C:\\Users\\dilar\\OneDrive\\Masaüstü\\Video\\output_file klasörüne kaydedildi.\n"
     ]
    }
   ],
   "source": [
    "import cv2\n",
    "import os\n",
    "\n",
    "def resize_all_videos(input_folder, output_folder, scale=0.5):\n",
    "    # Çıktı klasörü yoksa oluştur\n",
    "    os.makedirs(output_folder, exist_ok=True)\n",
    "\n",
    "    # Klasördeki tüm dosyaları listele\n",
    "    for filename in os.listdir(input_folder):\n",
    "        # Sadece video dosyalarını seç (örneğin .mp4 uzantılı dosyalar)\n",
    "        if filename.endswith(\".mp4\"):\n",
    "            input_path = os.path.join(input_folder, filename)\n",
    "            output_path = os.path.join(output_folder, f\"resized_{filename}\")\n",
    "\n",
    "            # Video dosyasını aç\n",
    "            cap = cv2.VideoCapture(input_path)\n",
    "            \n",
    "            # Orijinal genişlik ve yükseklik bilgilerini al\n",
    "            width = int(cap.get(cv2.CAP_PROP_FRAME_WIDTH))\n",
    "            height = int(cap.get(cv2.CAP_PROP_FRAME_HEIGHT))\n",
    "            fps = int(cap.get(cv2.CAP_PROP_FPS))\n",
    "\n",
    "            # Yeni boyutları belirle\n",
    "            new_width = int(width * scale)\n",
    "            new_height = int(height * scale)\n",
    "\n",
    "            # Video kaydediciyi ayarla\n",
    "            fourcc = cv2.VideoWriter_fourcc(*'mp4v')\n",
    "            out = cv2.VideoWriter(output_path, fourcc, fps, (new_width, new_height))\n",
    "\n",
    "            while cap.isOpened():\n",
    "                ret, frame = cap.read()\n",
    "                if not ret:\n",
    "                    break\n",
    "                \n",
    "                # Görüntüyü yeniden boyutlandır\n",
    "                resized_frame = cv2.resize(frame, (new_width, new_height), interpolation=cv2.INTER_AREA)\n",
    "                \n",
    "                # Hafif bulanıklaştırma (opsiyonel - görüntü kalitesini koruyarak boyutu küçültmek için)\n",
    "                blurred_frame = cv2.GaussianBlur(resized_frame, (5, 5), 0)\n",
    "                \n",
    "                # Sonuç çerçevesini kaydet\n",
    "                out.write(blurred_frame)\n",
    "            \n",
    "            # Kaynakları serbest bırak\n",
    "            cap.release()\n",
    "            out.release()\n",
    "            print(f\"{filename} küçültüldü ve {output_folder} klasörüne kaydedildi.\")\n",
    "\n",
    "\n",
    "input_video_folder =r'C:\\Users\\dilar\\OneDrive\\Masaüstü\\Video\\sample_video_file'  # Girdi video klasörü\n",
    "output_video_folder = r'C:\\Users\\dilar\\OneDrive\\Masaüstü\\Video\\output_file'  # Çıktı video klasörü\n",
    "resize_all_videos(input_video_folder, output_video_folder, scale=0.5)\n"
   ]
  },
  {
   "cell_type": "code",
   "execution_count": null,
   "id": "915ee099",
   "metadata": {},
   "outputs": [],
   "source": []
  }
 ],
 "metadata": {
  "kernelspec": {
   "display_name": "Python 3 (ipykernel)",
   "language": "python",
   "name": "python3"
  },
  "language_info": {
   "codemirror_mode": {
    "name": "ipython",
    "version": 3
   },
   "file_extension": ".py",
   "mimetype": "text/x-python",
   "name": "python",
   "nbconvert_exporter": "python",
   "pygments_lexer": "ipython3",
   "version": "3.9.12"
  }
 },
 "nbformat": 4,
 "nbformat_minor": 5
}
