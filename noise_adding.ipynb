{
 "cells": [
  {
   "cell_type": "code",
   "execution_count": 5,
   "id": "e7211c78-93a9-4558-83ab-d0ca3c2d1954",
   "metadata": {},
   "outputs": [
    {
     "name": "stdout",
     "output_type": "stream",
     "text": [
      "Video 'dansetmek.mp4' başarıyla 'C:\\Users\\meteh\\OneDrive\\Masaüstü\\videolar\\output\\processed_dansetmek.mp4' konumuna kaydedildi.\n",
      "Video 'kosmak.mp4' başarıyla 'C:\\Users\\meteh\\OneDrive\\Masaüstü\\videolar\\output\\processed_kosmak.mp4' konumuna kaydedildi.\n",
      "Video 'yurumek01.mp4' başarıyla 'C:\\Users\\meteh\\OneDrive\\Masaüstü\\videolar\\output\\processed_yurumek01.mp4' konumuna kaydedildi.\n",
      "Video 'yurumek02.mp4' başarıyla 'C:\\Users\\meteh\\OneDrive\\Masaüstü\\videolar\\output\\processed_yurumek02.mp4' konumuna kaydedildi.\n",
      "Video 'yurumek03.mp4' başarıyla 'C:\\Users\\meteh\\OneDrive\\Masaüstü\\videolar\\output\\processed_yurumek03.mp4' konumuna kaydedildi.\n",
      "Video 'yurumek04.mp4' başarıyla 'C:\\Users\\meteh\\OneDrive\\Masaüstü\\videolar\\output\\processed_yurumek04.mp4' konumuna kaydedildi.\n",
      "Video 'yurumek05.mp4' başarıyla 'C:\\Users\\meteh\\OneDrive\\Masaüstü\\videolar\\output\\processed_yurumek05.mp4' konumuna kaydedildi.\n",
      "Video 'yurumek06.mp4' başarıyla 'C:\\Users\\meteh\\OneDrive\\Masaüstü\\videolar\\output\\processed_yurumek06.mp4' konumuna kaydedildi.\n",
      "Video 'yurumek07.mp4' başarıyla 'C:\\Users\\meteh\\OneDrive\\Masaüstü\\videolar\\output\\processed_yurumek07.mp4' konumuna kaydedildi.\n",
      "Video 'yurumek08.mp4' başarıyla 'C:\\Users\\meteh\\OneDrive\\Masaüstü\\videolar\\output\\processed_yurumek08.mp4' konumuna kaydedildi.\n",
      "Video 'yurumek09.mp4' başarıyla 'C:\\Users\\meteh\\OneDrive\\Masaüstü\\videolar\\output\\processed_yurumek09.mp4' konumuna kaydedildi.\n",
      "Video 'yurumek10.mp4' başarıyla 'C:\\Users\\meteh\\OneDrive\\Masaüstü\\videolar\\output\\processed_yurumek10.mp4' konumuna kaydedildi.\n",
      "Video 'yurumek11.mp4' başarıyla 'C:\\Users\\meteh\\OneDrive\\Masaüstü\\videolar\\output\\processed_yurumek11.mp4' konumuna kaydedildi.\n",
      "Video 'yurumek12.mp4' başarıyla 'C:\\Users\\meteh\\OneDrive\\Masaüstü\\videolar\\output\\processed_yurumek12.mp4' konumuna kaydedildi.\n",
      "Video 'yurumek13.mp4' başarıyla 'C:\\Users\\meteh\\OneDrive\\Masaüstü\\videolar\\output\\processed_yurumek13.mp4' konumuna kaydedildi.\n",
      "Video 'yurumek14.mp4' başarıyla 'C:\\Users\\meteh\\OneDrive\\Masaüstü\\videolar\\output\\processed_yurumek14.mp4' konumuna kaydedildi.\n",
      "Video 'yurumek15.mp4' başarıyla 'C:\\Users\\meteh\\OneDrive\\Masaüstü\\videolar\\output\\processed_yurumek15.mp4' konumuna kaydedildi.\n",
      "Video 'yurumek16.mp4' başarıyla 'C:\\Users\\meteh\\OneDrive\\Masaüstü\\videolar\\output\\processed_yurumek16.mp4' konumuna kaydedildi.\n",
      "Video 'yurumek17.mp4' başarıyla 'C:\\Users\\meteh\\OneDrive\\Masaüstü\\videolar\\output\\processed_yurumek17.mp4' konumuna kaydedildi.\n",
      "Video 'yurumek18.mp4' başarıyla 'C:\\Users\\meteh\\OneDrive\\Masaüstü\\videolar\\output\\processed_yurumek18.mp4' konumuna kaydedildi.\n",
      "Tüm videolar işlendi ve kaydedildi.\n"
     ]
    }
   ],
   "source": [
    "import cv2\n",
    "import numpy as np\n",
    "import os\n",
    "\n",
    "\n",
    "input_folder = r\"C:\\Users\\meteh\\OneDrive\\Masaüstü\\videolar\\drive-download-20241101T170215Z-001\"\n",
    "output_folder = r\"C:\\Users\\meteh\\OneDrive\\Masaüstü\\videolar\\output\"\n",
    "os.makedirs(output_folder, exist_ok=True)\n",
    "\n",
    "target_width, target_height = 640, 480  # Çözünürlük ayarlaması yaptım\n",
    "\n",
    "for file_name in os.listdir(input_folder):\n",
    "    if file_name.endswith(('.mp4', '.avi', '.mov')): \n",
    "        input_path = os.path.join(input_folder, file_name)\n",
    "        output_path = os.path.join(output_folder, f\"processed_{file_name.split('.')[0]}.mp4\")\n",
    "\n",
    "        # Giriş videosunu aç\n",
    "        cap = cv2.VideoCapture(input_path)\n",
    "        fourcc = cv2.VideoWriter_fourcc(*'mp4v')\n",
    "        out = cv2.VideoWriter(output_path, fourcc, 20.0, (target_width, target_height))\n",
    "\n",
    "        while cap.isOpened():\n",
    "            ret, frame = cap.read()\n",
    "            if not ret:\n",
    "                break\n",
    "            \n",
    "            resized_frame = cv2.resize(frame, (target_width, target_height))\n",
    "          \n",
    "            noise = np.random.randint(0, 50, resized_frame.shape, dtype='uint8')\n",
    "            noisy_frame = cv2.add(resized_frame, noise)\n",
    "        \n",
    "            out.write(noisy_frame)\n",
    "\n",
    "        cap.release()\n",
    "        out.release()\n",
    "\n",
    "        print(f\"Video '{file_name}' başarıyla '{output_path}' konumuna kaydedildi.\")\n",
    "\n",
    "print(\"Tüm videolar işlendi ve kaydedildi.\")\n"
   ]
  }
 ],
 "metadata": {
  "kernelspec": {
   "display_name": "Python (myenv)",
   "language": "python",
   "name": "myenv"
  },
  "language_info": {
   "codemirror_mode": {
    "name": "ipython",
    "version": 3
   },
   "file_extension": ".py",
   "mimetype": "text/x-python",
   "name": "python",
   "nbconvert_exporter": "python",
   "pygments_lexer": "ipython3",
   "version": "3.8.19"
  }
 },
 "nbformat": 4,
 "nbformat_minor": 5
}
